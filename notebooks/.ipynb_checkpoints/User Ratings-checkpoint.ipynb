{
 "cells": [
  {
   "cell_type": "code",
   "execution_count": null,
   "metadata": {},
   "outputs": [],
   "source": [
    "# Pull in the MovieLens movie data\n",
    "ml_movies = (pd.read_csv(\"ml-latest/movies.csv\").drop(columns = [\"genres\"])\n",
    "             .rename(columns = {\"movieId\":\"movie_id\",\"title\":\"movie_title\"}))\n",
    "\n",
    "# Peek\n",
    "ml_movies.head()"
   ]
  },
  {
   "cell_type": "code",
   "execution_count": null,
   "metadata": {},
   "outputs": [],
   "source": [
    "# 58,098 movies\n",
    "ml_movies.shape"
   ]
  },
  {
   "cell_type": "code",
   "execution_count": null,
   "metadata": {},
   "outputs": [],
   "source": [
    "# Create a \"movie_title\" column in plot_df with same format as the ml_movies dataframe\n",
    "plot_df[\"movie_title\"] = plot_df[\"Title\"].map(str) + \" (\" + plot_df[\"Release Year\"].map(str) + \")\"\n",
    "\n",
    "# Peek\n",
    "plot_df.head()"
   ]
  },
  {
   "cell_type": "code",
   "execution_count": null,
   "metadata": {},
   "outputs": [],
   "source": [
    "# Merge plot_df with ml_movies to create movie_titles (only movies in both datasets for model metric\n",
    "movie_titles = (plot_df.merge(ml_movies, on = [\"movie_title\"]).loc[:,[\"movie_id\",\"movie_title\"]]\n",
    "                .sort_values(by = [\"movie_id\"], ascending = True).reset_index(drop = True))\n",
    "\n",
    "# Peek\n",
    "movie_titles.head()"
   ]
  },
  {
   "cell_type": "code",
   "execution_count": null,
   "metadata": {},
   "outputs": [],
   "source": [
    "# Read in the ratings data\n",
    "ratings_df = (pd.read_csv(\"ml-latest/ratings.csv\").drop(columns = [\"timestamp\"])\n",
    "              .rename(columns = {\"userId\":\"user_id\",\"movieId\":\"movie_id\"}))\n",
    "\n",
    "# Merge with the movie titles dataframe, then drop movie_id (unneeded after merge)\n",
    "ratings_df = (ratings_df.merge(movie_titles, on = [\"movie_id\"]).drop(columns = [\"movie_id\"])\n",
    "              .sort_values(by = [\"user_id\"], ascending = True)\n",
    "              .reset_index(drop = True)\n",
    "              .loc[:,[\"movie_title\",\"user_id\",\"rating\"]])\n",
    "\n",
    "# Peek\n",
    "ratings_df.head()"
   ]
  },
  {
   "cell_type": "code",
   "execution_count": null,
   "metadata": {},
   "outputs": [],
   "source": [
    "# Create a dataframe of users and the movies they watched\n",
    "user_movies_df = (ratings_df.groupby([\"user_id\"])\n",
    "                 .agg({\"movie_title\":list}).reset_index())\n",
    "\n",
    "# Create a dict of users and movies they watched\n",
    "users = user_movies_df[\"user_id\"].tolist()\n",
    "movies = user_movies_df[\"movie_title\"].tolist()\n",
    "\n",
    "user_movie_dict = {}\n",
    "for i in range(len(user_movies_df)):\n",
    "    user_movie_dict[users[i]] = movies[i]"
   ]
  },
  {
   "cell_type": "code",
   "execution_count": null,
   "metadata": {},
   "outputs": [],
   "source": [
    "# Create a dataframe of movies and users that watched it\n",
    "movie_users = (ratings_df.groupby([\"movie_title\"])\n",
    "               .agg({\"user_id\":list}).reset_index())\n",
    "\n",
    "# Create a dict of movies and users that watched it\n",
    "movies = movie_users[\"movie_title\"].tolist()\n",
    "users = movie_users[\"user_id\"].tolist()\n",
    "\n",
    "movie_user_dict = {}\n",
    "for i in range(len(movie_users)):\n",
    "    movie_user_dict[movies[i]] = users[i]"
   ]
  },
  {
   "cell_type": "code",
   "execution_count": null,
   "metadata": {},
   "outputs": [],
   "source": [
    "def evaluate_model(movie_input, movie_rec):\n",
    "    '''\n",
    "    Evaluates whether the model's movie recommendation was good\n",
    "    for the movie inputted based on users who liked the movie\n",
    "    inputted's watch history.\n",
    "    '''\n",
    "    \n",
    "    # Create a list of movies that were liked by users who liked the movie inputted\n",
    "    also_liked = []\n",
    "    \n",
    "    # Iterates through each user that liked the movie inputted\n",
    "    for user in movie_user_dict[movie_input]:\n",
    "        also_liked.extend(user_movie_dict[user])\n",
    "        \n",
    "    # Create a dictionary of occurences per movie\n",
    "    also_liked = dict(Counter(also_liked))\n",
    "    \n",
    "    # Sort it from highest to lowest\n",
    "    also_liked = sorted(also_liked.items(), key = operator.itemgetter(1))[-2::-1]\n",
    "    also_liked = [movie[0] for movie in also_liked]\n",
    "    \n",
    "    # Take only the top half sorted by frequency to make the evaluation more strict\n",
    "    halfway = int(len(also_liked) / 2)\n",
    "    \n",
    "    # If the movie appeared in the list, it was a good recommendation\n",
    "    if movie_rec in also_liked[:halfway]:\n",
    "        print(\"Good Recommendation\")\n",
    "    else:\n",
    "        print(\"Bad Recommendation\")"
   ]
  },
  {
   "cell_type": "code",
   "execution_count": null,
   "metadata": {},
   "outputs": [],
   "source": [
    "evaluate_model(\"Apollo 13 (1995)\",\"Space Cowboys (2000)\")"
   ]
  },
  {
   "cell_type": "code",
   "execution_count": null,
   "metadata": {},
   "outputs": [],
   "source": []
  },
  {
   "cell_type": "markdown",
   "metadata": {},
   "source": [
    "### Collaborative Filtering"
   ]
  },
  {
   "cell_type": "code",
   "execution_count": null,
   "metadata": {},
   "outputs": [],
   "source": [
    "# Movie id --> title\n",
    "id_to_title = dict(movie_rating_df[\"Movie Title\"])\n",
    "id_to_title[0]"
   ]
  },
  {
   "cell_type": "code",
   "execution_count": null,
   "metadata": {},
   "outputs": [],
   "source": [
    "movie_titles = movie_rating_df[\"Movie Title\"].tolist()"
   ]
  },
  {
   "cell_type": "code",
   "execution_count": null,
   "metadata": {},
   "outputs": [],
   "source": [
    "# this separates the list of users in each row into dummies\n",
    "from sklearn.preprocessing import MultiLabelBinarizer\n",
    "split = movie_rating_coo['user_id']\n",
    "\n",
    "# Initiate object\n",
    "mlb = MultiLabelBinarizer()\n",
    "\n",
    "colab_df = pd.DataFrame(mlb.fit_transform(split),columns=mlb.classes_)\n",
    "# swap rows and columns\n",
    "# have the user_id as the rows\n",
    "colab_df = colab_df.transpose()\n",
    "colab_df.columns = movie_titles\n",
    "colab_df.head()"
   ]
  },
  {
   "cell_type": "code",
   "execution_count": null,
   "metadata": {},
   "outputs": [],
   "source": [
    "colab_titles = colab_df.columns.tolist()"
   ]
  },
  {
   "cell_type": "code",
   "execution_count": null,
   "metadata": {},
   "outputs": [],
   "source": [
    "from scipy.sparse import coo_matrix\n",
    "\n",
    "# Convert sparse matrix to a coordinator matrix\n",
    "coo = coo_matrix(colab_df)\n",
    "\n",
    "# NMF Model with 5 topics\n",
    "nmf_model = NMF(n_components=5, init='random', random_state=42)\n",
    "\n",
    "# User vectors with movie topics\n",
    "user_vec = nmf_model.fit_transform(coo)\n",
    "\n",
    "# Movie topic\n",
    "movie_vec = nmf_model.components_.transpose()\n",
    "\n",
    "# Cosine distances for user/movies\n",
    "user_dist = pairwise_distances(user_vec,movie_vec,metric='cosine')\n",
    "\n",
    "# user_input is the places the user has gone and liked\n",
    "# should be a list of city AND country\n",
    "def collaborative_recommender(user_input):\n",
    "    \n",
    "    # new user hasnt visited any places yet\n",
    "    new_user_input = np.zeros(colab_df.shape[1])\n",
    "    \n",
    "    already_watched = []\n",
    "    for movie in user_input:\n",
    "        # Index of the movie they input\n",
    "        index =  colab_titles.index(movie)\n",
    "        \n",
    "        # Change the index for that movie to 1 if the user watched the movie\n",
    "        new_user_input[index] = 1\n",
    "        \n",
    "        # Append the movie index to the already watched list (so as to not recommend it)\n",
    "        already_watched.append(index)\n",
    "        \n",
    "    # Coordinator matrix for the new_user_input\n",
    "    new_coo = coo_matrix(new_user_input) \n",
    "    \n",
    "    \n",
    "    new_user = nmf_model.transform(new_coo) # transform only since we have the model already fitted\n",
    "    new_user_dist = pairwise_distances(new_user,movie_vec,metric='cosine') # output would be for 1 person\n",
    "    \n",
    "    \n",
    "    # argsort returns in the index of the 10 lowest cosine distances\n",
    "    # index references city_country_dict to get the city name\n",
    "    # new_user_dist is the pair-wise distances for that user to each movie\n",
    "    # we are calling the [0]th index of that because the output was a list of lists of just 1\n",
    "    return [id_to_title[movie] for movie in new_user_dist[0].argsort()[:10] if movie not in already_watched]\n",
    "\n",
    "\n",
    "\n"
   ]
  },
  {
   "cell_type": "code",
   "execution_count": null,
   "metadata": {},
   "outputs": [],
   "source": []
  },
  {
   "cell_type": "code",
   "execution_count": null,
   "metadata": {},
   "outputs": [],
   "source": []
  },
  {
   "cell_type": "code",
   "execution_count": null,
   "metadata": {},
   "outputs": [],
   "source": []
  },
  {
   "cell_type": "code",
   "execution_count": null,
   "metadata": {},
   "outputs": [],
   "source": []
  },
  {
   "cell_type": "code",
   "execution_count": null,
   "metadata": {},
   "outputs": [],
   "source": []
  },
  {
   "cell_type": "code",
   "execution_count": null,
   "metadata": {},
   "outputs": [],
   "source": []
  },
  {
   "cell_type": "code",
   "execution_count": null,
   "metadata": {},
   "outputs": [],
   "source": [
    "users = []\n",
    "user_avg_movies = []\n",
    "\n",
    "for user in user_movie_dict:\n",
    "    print(f\"{user} / {len(user_movie_dict.keys())}\")\n",
    "    movie_sum = np.zeros(50)\n",
    "    \n",
    "    # For each movie_title in the user's history\n",
    "    for idx, movie in enumerate(user_movie_dict[user]):\n",
    "\n",
    "        # Convert the movie_title to the movie_id\n",
    "        movie = movie_to_id[movie[:-7]]\n",
    "\n",
    "        # Append the movie vector to the list\n",
    "        movie_sum += doc_topic[movie]\n",
    "    \n",
    "    # Generate the average of all the movies\n",
    "    total_movies = len(user_movie_dict[user])\n",
    "    average_movies = movie_sum / total_movies\n",
    "    \n",
    "    # Append to lists\n",
    "    users.append(user)\n",
    "    user_avg_movies.append(average_movies)"
   ]
  }
 ],
 "metadata": {
  "kernelspec": {
   "display_name": "Python 3",
   "language": "python",
   "name": "python3"
  },
  "language_info": {
   "codemirror_mode": {
    "name": "ipython",
    "version": 3
   },
   "file_extension": ".py",
   "mimetype": "text/x-python",
   "name": "python",
   "nbconvert_exporter": "python",
   "pygments_lexer": "ipython3",
   "version": "3.7.3"
  },
  "toc": {
   "base_numbering": 1,
   "nav_menu": {},
   "number_sections": true,
   "sideBar": true,
   "skip_h1_title": false,
   "title_cell": "Table of Contents",
   "title_sidebar": "Contents",
   "toc_cell": false,
   "toc_position": {},
   "toc_section_display": true,
   "toc_window_display": false
  }
 },
 "nbformat": 4,
 "nbformat_minor": 2
}
